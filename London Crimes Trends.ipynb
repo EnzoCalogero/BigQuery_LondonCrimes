{
 "cells": [
  {
   "cell_type": "code",
   "execution_count": null,
   "metadata": {
    "collapsed": true
   },
   "outputs": [],
   "source": []
  },
  {
   "cell_type": "markdown",
   "metadata": {},
   "source": [
    "Recently, I came across a nice data-set in Kaggle, “London Crime Data” (https://www.kaggle.com/LondonDataStore/london-crime).\n",
    "\n",
    "It contains the record of all the criminal events in London between the year 2008 and 2016.\n",
    "\n",
    "This dataset is part of London Data-store (https://data.london.gov.uk/) with over 700 datasets to help anyone to understand the city and develop solutions to London’s problems.\n",
    "\n",
    "The nice thing about this dataset is that is directly available using the Google Big Query from your desktop and with Kaggle.com using their Jupiter notebook."
   ]
  },
  {
   "cell_type": "code",
   "execution_count": 2,
   "metadata": {
    "collapsed": true
   },
   "outputs": [],
   "source": [
    "# Importing main libraries\n",
    "\n",
    "import os\n",
    "import pandas as pd\n",
    "from pandas.io import gbq\n",
    "from google.cloud import bigquery\n",
    "import matplotlib.pyplot as plt\n",
    "import seaborn as sns\n",
    "%matplotlib inline\n",
    "\n",
    "# authetication file for google applications\n",
    "os.environ[\"GOOGLE_APPLICATION_CREDENTIALS\"] = \"deeplearning-97d854aac156.json\"\n",
    "\n",
    "# Instantiates a client\n",
    "bigquery_client = bigquery.Client()\n"
   ]
  },
  {
   "cell_type": "markdown",
   "metadata": {},
   "source": [
    "## Business Understanding¶\n",
    "\n",
    "### Key Questions:\n",
    "1. In the Criminal events is there any seasonal effect?\n",
    "\n",
    "2. On which of the London Boroughs the number of Crimes is increasing, and which is decreasing in the years between 2008 and 2016?\n",
    "\n",
    "3. Which type of criminal event is increasing in the years between 2018 and 2016?\n"
   ]
  },
  {
   "cell_type": "markdown",
   "metadata": {},
   "source": [
    "### Data understanding\n",
    "\n",
    "#### Context\n",
    "London is the capital and most populous city of England and the United Kingdom. Standing on the River Thames in the south east of the island of Great Britain, London has been a major settlement for two millennia. Source: https://en.wikipedia.org/wiki/London\n",
    "\n",
    "#### Content\n",
    "This data counts the number of crimes at two different geographic levels of London (LSOA and borough) by year, according to crime type. Includes data from 2008 to present. Crime categories are included in the BigQuery table description.\n",
    "\n",
    "for further information on the data or to download the original data:\n",
    "https://data.london.gov.uk/\n",
    "\n",
    "https://bigquery.cloud.google.com/dataset/bigquery-public-data:london_crime?_ga=2.189454959.-577194880.1523455401\n",
    "\n",
    "This dataset is publicly available for anyone to use under the following terms provided by the Dataset Source — http://www.data.gov/privacy-policy#data_policy — and is provided \"AS IS\" without any warranty, express or implied, from Google. Google disclaims all liability for any damages, direct or indirect, resulting from the use of the dataset.\n"
   ]
  },
  {
   "cell_type": "markdown",
   "metadata": {
    "collapsed": true
   },
   "source": [
    "### Questions each on a dedicated Jupiter Notebook\n",
    "\n",
    "#### First Question:\n",
    "[In the Criminal events is there any seasonal effect?](https://tba)\n",
    "\n",
    "#### Second Question:\n",
    "[On which of the London Boroughs the number of Crimes is increasing, and which is decreasing in the years between 2008 and 2016?](https:/tba)\n",
    "\n",
    "#### Third Question:\n",
    "[Which type of criminal event is increasing in the years between 2018 and 2016?](https://tba)\n"
   ]
  },
  {
   "cell_type": "code",
   "execution_count": null,
   "metadata": {
    "collapsed": true
   },
   "outputs": [],
   "source": []
  }
 ],
 "metadata": {
  "kernelspec": {
   "display_name": "Python 3",
   "language": "python",
   "name": "python3"
  },
  "language_info": {
   "codemirror_mode": {
    "name": "ipython",
    "version": 3
   },
   "file_extension": ".py",
   "mimetype": "text/x-python",
   "name": "python",
   "nbconvert_exporter": "python",
   "pygments_lexer": "ipython3",
   "version": "3.6.3"
  }
 },
 "nbformat": 4,
 "nbformat_minor": 2
}
